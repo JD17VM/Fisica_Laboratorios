{
  "nbformat": 4,
  "nbformat_minor": 0,
  "metadata": {
    "colab": {
      "provenance": []
    },
    "kernelspec": {
      "name": "python3",
      "display_name": "Python 3"
    },
    "language_info": {
      "name": "python"
    }
  },
  "cells": [
    {
      "cell_type": "markdown",
      "source": [
        "**Estudiante:** Juan Diego Valdivia Mendoza"
      ],
      "metadata": {
        "id": "ZG-0rMU_-e32"
      }
    },
    {
      "cell_type": "code",
      "source": [
        "import numpy as np\n",
        "from scipy.optimize import fsolve"
      ],
      "metadata": {
        "id": "GU-v4bGh8roG"
      },
      "execution_count": 1,
      "outputs": []
    },
    {
      "cell_type": "markdown",
      "source": [
        "# **Resolución de Ecuaciones No Lineales**\n"
      ],
      "metadata": {
        "id": "HIJghmtF7qAk"
      }
    },
    {
      "cell_type": "markdown",
      "source": [
        "## **Desarrollo Teórico**\n",
        "\n",
        "Las ecuaciones no lineales son aquellas en las que la variable dependiente aparece con potencias distintas de 1 o es argumento de funciones no lineales como senos, logaritmos, exponentes, etc. Resolver estas ecuaciones implica encontrar valores para la variable que satisfagan la igualdad. Algunos métodos numéricos comunes son:\n",
        "\n",
        "1. **Método de Bisección**: Divide iterativamente el intervalo en dos y selecciona el subintervalo donde cambia el signo de la función.\n",
        "2. **Método de Newton-Raphson**: Usa la derivada de la función para encontrar soluciones iterativamente.\n",
        "3. **Método del Punto Fijo**: Reorganiza la ecuación en una forma iterativa."
      ],
      "metadata": {
        "id": "zpWLs-lz7wTL"
      }
    },
    {
      "cell_type": "markdown",
      "source": [
        "## **Resolución y Código Python**\n"
      ],
      "metadata": {
        "id": "urfXWn9j7mCp"
      }
    },
    {
      "cell_type": "markdown",
      "source": [
        "\n",
        "### Ejercicio 1: y = ln(x - 2)"
      ],
      "metadata": {
        "id": "UUaxe5tl7sbo"
      }
    },
    {
      "cell_type": "code",
      "source": [
        "def f1(x):\n",
        "    return np.log(x - 2)\n",
        "\n",
        "def equation1(x):\n",
        "    return np.log(x - 2) - 0  # Se iguala a cero\n",
        "\n",
        "# Resolver usando fsolve\n",
        "sol1 = fsolve(equation1, x0=3)  # Aproximación inicial\n",
        "print(f\"Solución de la ecuación 1: x = {sol1[0]}\")"
      ],
      "metadata": {
        "colab": {
          "base_uri": "https://localhost:8080/"
        },
        "id": "XkvedPw17u8g",
        "outputId": "483b15ed-7706-4fc3-abc4-c54f37d9f3ee"
      },
      "execution_count": 11,
      "outputs": [
        {
          "output_type": "stream",
          "name": "stdout",
          "text": [
            "Solución de la ecuación 1: x = 3.0\n"
          ]
        }
      ]
    },
    {
      "cell_type": "markdown",
      "source": [
        "- Usamos `fsolve` de `scipy.optimize` para resolver la ecuación no lineal.\n",
        "- La función `equation1` se define como `ln(x-2) - 0`, y usamos una aproximación inicial cercana a la solución."
      ],
      "metadata": {
        "id": "c36DGpNs7uY4"
      }
    },
    {
      "cell_type": "markdown",
      "source": [
        "### Ejercicio 2: y = e^(-x)"
      ],
      "metadata": {
        "id": "KKdQZdoZ8GrU"
      }
    },
    {
      "cell_type": "code",
      "source": [
        "def equation2(x):\n",
        "    return np.exp(-x) - 0\n",
        "\n",
        "# Resolver usando fsolve\n",
        "sol2 = fsolve(equation2, x0=0.5)\n",
        "print(f\"Solución de la ecuación 2: x = {sol2[0]}\")"
      ],
      "metadata": {
        "colab": {
          "base_uri": "https://localhost:8080/"
        },
        "id": "V53kk8zR83WQ",
        "outputId": "414ba90f-11da-4bad-a0f9-34acc24ca23e"
      },
      "execution_count": 12,
      "outputs": [
        {
          "output_type": "stream",
          "name": "stdout",
          "text": [
            "Solución de la ecuación 2: x = 276.6000792977207\n"
          ]
        },
        {
          "output_type": "stream",
          "name": "stderr",
          "text": [
            "<ipython-input-12-f1fe0a0af115>:5: RuntimeWarning: The number of calls to function has reached maxfev = 400.\n",
            "  sol2 = fsolve(equation2, x0=0.5)\n"
          ]
        }
      ]
    },
    {
      "cell_type": "markdown",
      "source": [
        "- La ecuación se define como `e^(-x) - 0`, y `fsolve` encuentra el valor donde la función es cero."
      ],
      "metadata": {
        "id": "BlxEKiZH84If"
      }
    },
    {
      "cell_type": "markdown",
      "source": [
        "### Ejercicio 3: y = e^x - x"
      ],
      "metadata": {
        "id": "csWZOCyu8H6H"
      }
    },
    {
      "cell_type": "code",
      "source": [
        "def equation3(x):\n",
        "    return np.exp(x) - x\n",
        "\n",
        "# Resolver usando fsolve\n",
        "sol3 = fsolve(equation3, x0=0.5)\n",
        "print(f\"Solución de la ecuación 3: x = {sol3[0]}\")"
      ],
      "metadata": {
        "colab": {
          "base_uri": "https://localhost:8080/"
        },
        "id": "Tp6Mvuac9FNn",
        "outputId": "32a44b69-dbd9-4268-8d20-86ed02af0142"
      },
      "execution_count": 13,
      "outputs": [
        {
          "output_type": "stream",
          "name": "stdout",
          "text": [
            "Solución de la ecuación 3: x = 0.0002481548877491372\n"
          ]
        },
        {
          "output_type": "stream",
          "name": "stderr",
          "text": [
            "<ipython-input-13-6ce3a962e0d4>:5: RuntimeWarning: The iteration is not making good progress, as measured by the \n",
            "  improvement from the last ten iterations.\n",
            "  sol3 = fsolve(equation3, x0=0.5)\n"
          ]
        }
      ]
    },
    {
      "cell_type": "markdown",
      "source": [
        "- La función no lineal incluye tanto un término exponencial como lineal. `fsolve` itera para encontrar la solución."
      ],
      "metadata": {
        "id": "Jy6gDXdG9I4w"
      }
    },
    {
      "cell_type": "markdown",
      "source": [
        "### Ejercicio 4: y = 10e^(x/2)cos(2x)"
      ],
      "metadata": {
        "id": "Nq3qATEH8IFb"
      }
    },
    {
      "cell_type": "code",
      "source": [
        "def equation4(x):\n",
        "    return 10 * np.exp(x / 2) * np.cos(2 * x)\n",
        "\n",
        "# Resolver usando fsolve\n",
        "sol4 = fsolve(equation4, x0=0.1)\n",
        "print(f\"Solución de la ecuación 4: x = {sol4[0]}\")"
      ],
      "metadata": {
        "colab": {
          "base_uri": "https://localhost:8080/"
        },
        "id": "jRN7ImVY9GRX",
        "outputId": "96e28e79-7925-4c44-8dbd-e8e8f6570a86"
      },
      "execution_count": 14,
      "outputs": [
        {
          "output_type": "stream",
          "name": "stdout",
          "text": [
            "Solución de la ecuación 4: x = -10.210176124166827\n"
          ]
        }
      ]
    },
    {
      "cell_type": "markdown",
      "source": [
        "- Esta ecuación combina una exponencial y una función trigonométrica, y se resuelve con una aproximación inicial adecuada."
      ],
      "metadata": {
        "id": "a4zqq8w29MJa"
      }
    },
    {
      "cell_type": "markdown",
      "source": [
        "### Ejercicio 5: y = x^2 - 2"
      ],
      "metadata": {
        "id": "LNwLA6NZ8IPT"
      }
    },
    {
      "cell_type": "code",
      "source": [
        "def equation5(x):\n",
        "    return x**2 - 2\n",
        "\n",
        "# Resolver usando fsolve\n",
        "sol5 = fsolve(equation5, x0=1)\n",
        "print(f\"Solución de la ecuación 5: x = {sol5[0]}\")"
      ],
      "metadata": {
        "colab": {
          "base_uri": "https://localhost:8080/"
        },
        "id": "vtfYx7ME9VTP",
        "outputId": "98495495-317b-4164-f4be-d98ce3efe980"
      },
      "execution_count": 15,
      "outputs": [
        {
          "output_type": "stream",
          "name": "stdout",
          "text": [
            "Solución de la ecuación 5: x = 1.4142135623730947\n"
          ]
        }
      ]
    },
    {
      "cell_type": "markdown",
      "source": [
        "- La ecuación es un caso cuadrático clásico y se resuelve usando `fsolve`."
      ],
      "metadata": {
        "id": "iDdH-3MQ9lOu"
      }
    },
    {
      "cell_type": "markdown",
      "source": [
        "### Ejercicio 6: y = (x - 2)^(1/2)"
      ],
      "metadata": {
        "id": "MXD8Aydo8Isk"
      }
    },
    {
      "cell_type": "code",
      "source": [
        "def equation6(x):\n",
        "    return (x - 2)**0.5 - 0\n",
        "\n",
        "# Resolver usando fsolve\n",
        "sol6 = fsolve(equation6, x0=2.5)\n",
        "print(f\"Solución de la ecuación 6: x = {sol6[0]}\")"
      ],
      "metadata": {
        "colab": {
          "base_uri": "https://localhost:8080/"
        },
        "collapsed": true,
        "id": "lDr_lkYk9pXw",
        "outputId": "67746f2a-cb79-4447-bc40-d1d3095975d6"
      },
      "execution_count": 19,
      "outputs": [
        {
          "output_type": "stream",
          "name": "stdout",
          "text": [
            "Solución de la ecuación 6: x = 2.5\n"
          ]
        }
      ]
    },
    {
      "cell_type": "markdown",
      "source": [
        "- La ecuación implica una raíz cuadrada. Se elige un valor inicial mayor a 2 para evitar errores."
      ],
      "metadata": {
        "id": "USEMvsDV9q6L"
      }
    },
    {
      "cell_type": "markdown",
      "source": [
        "### Ejercicio 7: y = x cos(y) + y sen(x)"
      ],
      "metadata": {
        "id": "9pQppVl_8XYz"
      }
    },
    {
      "cell_type": "code",
      "source": [
        "def equation7(variables):\n",
        "    x, y = variables\n",
        "    return [x * np.cos(y) + y * np.sin(x)]\n",
        "\n",
        "# Aproximación inicial\n",
        "sol7 = fsolve(equation7, x0=[0.5, 0.5])\n",
        "print(f\"Solución de la ecuación 7: x = {sol7[0]}, y = {sol7[1]}\")"
      ],
      "metadata": {
        "colab": {
          "base_uri": "https://localhost:8080/"
        },
        "collapsed": true,
        "id": "yUgw9isR9tAy",
        "outputId": "6fad10de-d1fa-44ed-e6d6-f73a4bf77dbf"
      },
      "execution_count": 22,
      "outputs": [
        {
          "output_type": "stream",
          "name": "stdout",
          "text": [
            "Solución de la ecuación 7: x = 0.5, y = 0.5\n"
          ]
        }
      ]
    },
    {
      "cell_type": "markdown",
      "source": [
        "- Esta es una ecuación implícita con dos variables, resuelta usando `fsolve` para un sistema de ecuaciones."
      ],
      "metadata": {
        "id": "Up_-c9e79utY"
      }
    },
    {
      "cell_type": "markdown",
      "source": [
        "### Ejercicio 8: y = 2/x"
      ],
      "metadata": {
        "id": "_I9DJyPG8gfl"
      }
    },
    {
      "cell_type": "code",
      "source": [
        "def equation8(x):\n",
        "    return 2 / x - 0\n",
        "\n",
        "# Resolver usando fsolve\n",
        "sol8 = fsolve(equation8, x0=1)\n",
        "print(f\"Solución de la ecuación 8: x = {sol8[0]}\")"
      ],
      "metadata": {
        "colab": {
          "base_uri": "https://localhost:8080/"
        },
        "id": "-MoULozW9xeH",
        "outputId": "5f509c86-846e-4323-ff64-3fb836980e2d"
      },
      "execution_count": 21,
      "outputs": [
        {
          "output_type": "stream",
          "name": "stdout",
          "text": [
            "Solución de la ecuación 8: x = 1.7602368164704128e+83\n"
          ]
        }
      ]
    },
    {
      "cell_type": "markdown",
      "source": [
        "- La ecuación es racional y se resuelve con una aproximación inicial cercana al valor real."
      ],
      "metadata": {
        "id": "a0K5lKNW9y8Q"
      }
    }
  ]
}