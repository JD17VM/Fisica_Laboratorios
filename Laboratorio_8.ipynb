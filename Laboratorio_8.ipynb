{
  "cells": [
    {
      "cell_type": "markdown",
      "metadata": {
        "id": "ZG-0rMU_-e32"
      },
      "source": [
        "**Estudiante:** Juan Diego Valdivia Mendoza"
      ]
    },
    {
      "cell_type": "code",
      "execution_count": 1,
      "metadata": {
        "id": "GU-v4bGh8roG"
      },
      "outputs": [],
      "source": [
        "import numpy as np\n",
        "from scipy.optimize import fsolve"
      ]
    },
    {
      "cell_type": "markdown",
      "metadata": {
        "id": "HIJghmtF7qAk"
      },
      "source": [
        "# **Resolución de Ecuaciones No Lineales**\n"
      ]
    },
    {
      "cell_type": "markdown",
      "metadata": {
        "id": "zpWLs-lz7wTL"
      },
      "source": [
        "## **Desarrollo Teórico**\n",
        "\n",
        "Las ecuaciones no lineales son aquellas en las que la variable dependiente aparece con potencias distintas de 1 o es argumento de funciones no lineales como senos, logaritmos, exponentes, etc. Resolver estas ecuaciones implica encontrar valores para la variable que satisfagan la igualdad. Algunos métodos numéricos comunes son:\n",
        "\n",
        "1. **Método de Bisección**: Divide iterativamente el intervalo en dos y selecciona el subintervalo donde cambia el signo de la función.\n",
        "2. **Método de Newton-Raphson**: Usa la derivada de la función para encontrar soluciones iterativamente.\n",
        "3. **Método del Punto Fijo**: Reorganiza la ecuación en una forma iterativa."
      ]
    },
    {
      "cell_type": "markdown",
      "metadata": {
        "id": "urfXWn9j7mCp"
      },
      "source": [
        "## **Resolución y Código Python**\n"
      ]
    },
    {
      "cell_type": "markdown",
      "metadata": {
        "id": "UUaxe5tl7sbo"
      },
      "source": [
        "\n",
        "### Ejercicio 1: y = ln(x - 2)"
      ]
    },
    {
      "cell_type": "code",
      "execution_count": 11,
      "metadata": {
        "colab": {
          "base_uri": "https://localhost:8080/"
        },
        "id": "XkvedPw17u8g",
        "outputId": "483b15ed-7706-4fc3-abc4-c54f37d9f3ee"
      },
      "outputs": [
        {
          "name": "stdout",
          "output_type": "stream",
          "text": [
            "Solución de la ecuación 1: x = 3.0\n"
          ]
        }
      ],
      "source": [
        "def f1(x):\n",
        "    return np.log(x - 2)\n",
        "\n",
        "def equation1(x):\n",
        "    return np.log(x - 2) - 0  # Se iguala a cero\n",
        "\n",
        "# Resolver usando fsolve\n",
        "sol1 = fsolve(equation1, x0=3)  # Aproximación inicial\n",
        "print(f\"Solución de la ecuación 1: x = {sol1[0]}\")"
      ]
    },
    {
      "cell_type": "markdown",
      "metadata": {
        "id": "c36DGpNs7uY4"
      },
      "source": [
        "- Usamos `fsolve` de `scipy.optimize` para resolver la ecuación no lineal.\n",
        "- La función `equation1` se define como `ln(x-2) - 0`, y usamos una aproximación inicial cercana a la solución."
      ]
    },
    {
      "cell_type": "markdown",
      "metadata": {
        "id": "KKdQZdoZ8GrU"
      },
      "source": [
        "### Ejercicio 2: y = e^(-x)"
      ]
    },
    {
      "cell_type": "code",
      "execution_count": null,
      "metadata": {
        "colab": {
          "base_uri": "https://localhost:8080/"
        },
        "id": "V53kk8zR83WQ",
        "outputId": "414ba90f-11da-4bad-a0f9-34acc24ca23e"
      },
      "outputs": [],
      "source": [
        "def equation2(x):\n",
        "    return np.exp(-x) - 0\n",
        "\n",
        "# Resolver usando fsolve\n",
        "sol2 = fsolve(equation2, x0=0.5)\n",
        "print(f\"Solución de la ecuación 2: x = {sol2[0]}\")"
      ]
    },
    {
      "cell_type": "markdown",
      "metadata": {
        "id": "BlxEKiZH84If"
      },
      "source": [
        "- La ecuación se define como `e^(-x) - 0`, y `fsolve` encuentra el valor donde la función es cero."
      ]
    },
    {
      "cell_type": "markdown",
      "metadata": {
        "id": "csWZOCyu8H6H"
      },
      "source": [
        "### Ejercicio 3: y = e^x - x"
      ]
    },
    {
      "cell_type": "code",
      "execution_count": null,
      "metadata": {
        "colab": {
          "base_uri": "https://localhost:8080/"
        },
        "id": "Tp6Mvuac9FNn",
        "outputId": "32a44b69-dbd9-4268-8d20-86ed02af0142"
      },
      "outputs": [],
      "source": [
        "def equation3(x):\n",
        "    return np.exp(x) - x\n",
        "\n",
        "# Resolver usando fsolve\n",
        "sol3 = fsolve(equation3, x0=0.5)\n",
        "print(f\"Solución de la ecuación 3: x = {sol3[0]}\")"
      ]
    },
    {
      "cell_type": "markdown",
      "metadata": {
        "id": "Jy6gDXdG9I4w"
      },
      "source": [
        "- La función no lineal incluye tanto un término exponencial como lineal. `fsolve` itera para encontrar la solución."
      ]
    },
    {
      "cell_type": "markdown",
      "metadata": {
        "id": "Nq3qATEH8IFb"
      },
      "source": [
        "### Ejercicio 4: y = 10e^(x/2)cos(2x)"
      ]
    },
    {
      "cell_type": "code",
      "execution_count": 14,
      "metadata": {
        "colab": {
          "base_uri": "https://localhost:8080/"
        },
        "id": "jRN7ImVY9GRX",
        "outputId": "96e28e79-7925-4c44-8dbd-e8e8f6570a86"
      },
      "outputs": [
        {
          "name": "stdout",
          "output_type": "stream",
          "text": [
            "Solución de la ecuación 4: x = -10.210176124166827\n"
          ]
        }
      ],
      "source": [
        "def equation4(x):\n",
        "    return 10 * np.exp(x / 2) * np.cos(2 * x)\n",
        "\n",
        "# Resolver usando fsolve\n",
        "sol4 = fsolve(equation4, x0=0.1)\n",
        "print(f\"Solución de la ecuación 4: x = {sol4[0]}\")"
      ]
    },
    {
      "cell_type": "markdown",
      "metadata": {
        "id": "a4zqq8w29MJa"
      },
      "source": [
        "- Esta ecuación combina una exponencial y una función trigonométrica, y se resuelve con una aproximación inicial adecuada."
      ]
    },
    {
      "cell_type": "markdown",
      "metadata": {
        "id": "LNwLA6NZ8IPT"
      },
      "source": [
        "### Ejercicio 5: y = x^2 - 2"
      ]
    },
    {
      "cell_type": "code",
      "execution_count": 15,
      "metadata": {
        "colab": {
          "base_uri": "https://localhost:8080/"
        },
        "id": "vtfYx7ME9VTP",
        "outputId": "98495495-317b-4164-f4be-d98ce3efe980"
      },
      "outputs": [
        {
          "name": "stdout",
          "output_type": "stream",
          "text": [
            "Solución de la ecuación 5: x = 1.4142135623730947\n"
          ]
        }
      ],
      "source": [
        "def equation5(x):\n",
        "    return x**2 - 2\n",
        "\n",
        "# Resolver usando fsolve\n",
        "sol5 = fsolve(equation5, x0=1)\n",
        "print(f\"Solución de la ecuación 5: x = {sol5[0]}\")"
      ]
    },
    {
      "cell_type": "markdown",
      "metadata": {
        "id": "iDdH-3MQ9lOu"
      },
      "source": [
        "- La ecuación es un caso cuadrático clásico y se resuelve usando `fsolve`."
      ]
    },
    {
      "cell_type": "markdown",
      "metadata": {
        "id": "MXD8Aydo8Isk"
      },
      "source": [
        "### Ejercicio 6: y = (x - 2)^(1/2)"
      ]
    },
    {
      "cell_type": "code",
      "execution_count": 19,
      "metadata": {
        "colab": {
          "base_uri": "https://localhost:8080/"
        },
        "collapsed": true,
        "id": "lDr_lkYk9pXw",
        "outputId": "67746f2a-cb79-4447-bc40-d1d3095975d6"
      },
      "outputs": [
        {
          "name": "stdout",
          "output_type": "stream",
          "text": [
            "Solución de la ecuación 6: x = 2.5\n"
          ]
        }
      ],
      "source": [
        "def equation6(x):\n",
        "    return (x - 2)**0.5 - 0\n",
        "\n",
        "# Resolver usando fsolve\n",
        "sol6 = fsolve(equation6, x0=2.5)\n",
        "print(f\"Solución de la ecuación 6: x = {sol6[0]}\")"
      ]
    },
    {
      "cell_type": "markdown",
      "metadata": {
        "id": "USEMvsDV9q6L"
      },
      "source": [
        "- La ecuación implica una raíz cuadrada. Se elige un valor inicial mayor a 2 para evitar errores."
      ]
    },
    {
      "cell_type": "markdown",
      "metadata": {
        "id": "9pQppVl_8XYz"
      },
      "source": [
        "### Ejercicio 7: y = x cos(y) + y sen(x)"
      ]
    },
    {
      "cell_type": "code",
      "execution_count": 22,
      "metadata": {
        "colab": {
          "base_uri": "https://localhost:8080/"
        },
        "collapsed": true,
        "id": "yUgw9isR9tAy",
        "outputId": "6fad10de-d1fa-44ed-e6d6-f73a4bf77dbf"
      },
      "outputs": [
        {
          "name": "stdout",
          "output_type": "stream",
          "text": [
            "Solución de la ecuación 7: x = 0.5, y = 0.5\n"
          ]
        }
      ],
      "source": [
        "def equation7(variables):\n",
        "    x, y = variables\n",
        "    return [x * np.cos(y) + y * np.sin(x)]\n",
        "\n",
        "# Aproximación inicial\n",
        "sol7 = fsolve(equation7, x0=[0.5, 0.5])\n",
        "print(f\"Solución de la ecuación 7: x = {sol7[0]}, y = {sol7[1]}\")"
      ]
    },
    {
      "cell_type": "markdown",
      "metadata": {
        "id": "Up_-c9e79utY"
      },
      "source": [
        "- Esta es una ecuación implícita con dos variables, resuelta usando `fsolve` para un sistema de ecuaciones."
      ]
    },
    {
      "cell_type": "markdown",
      "metadata": {
        "id": "_I9DJyPG8gfl"
      },
      "source": [
        "### Ejercicio 8: y = 2/x"
      ]
    },
    {
      "cell_type": "code",
      "execution_count": 21,
      "metadata": {
        "colab": {
          "base_uri": "https://localhost:8080/"
        },
        "id": "-MoULozW9xeH",
        "outputId": "5f509c86-846e-4323-ff64-3fb836980e2d"
      },
      "outputs": [
        {
          "name": "stdout",
          "output_type": "stream",
          "text": [
            "Solución de la ecuación 8: x = 1.7602368164704128e+83\n"
          ]
        }
      ],
      "source": [
        "def equation8(x):\n",
        "    return 2 / x - 0\n",
        "\n",
        "# Resolver usando fsolve\n",
        "sol8 = fsolve(equation8, x0=1)\n",
        "print(f\"Solución de la ecuación 8: x = {sol8[0]}\")"
      ]
    },
    {
      "cell_type": "markdown",
      "metadata": {
        "id": "a0K5lKNW9y8Q"
      },
      "source": [
        "- La ecuación es racional y se resuelve con una aproximación inicial cercana al valor real."
      ]
    }
  ],
  "metadata": {
    "colab": {
      "provenance": []
    },
    "kernelspec": {
      "display_name": "Python 3",
      "name": "python3"
    },
    "language_info": {
      "name": "python"
    }
  },
  "nbformat": 4,
  "nbformat_minor": 0
}
