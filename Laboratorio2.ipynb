{
  "nbformat": 4,
  "nbformat_minor": 0,
  "metadata": {
    "colab": {
      "provenance": [],
      "authorship_tag": "ABX9TyMZOP4uryR3FJKzp18S3NbJ",
      "include_colab_link": true
    },
    "kernelspec": {
      "name": "python3",
      "display_name": "Python 3"
    },
    "language_info": {
      "name": "python"
    }
  },
  "cells": [
    {
      "cell_type": "markdown",
      "metadata": {
        "id": "view-in-github",
        "colab_type": "text"
      },
      "source": [
        "<a href=\"https://colab.research.google.com/github/JD17VM/Fisica_Laboratorios/blob/main/Laboratorio2.ipynb\" target=\"_parent\"><img src=\"https://colab.research.google.com/assets/colab-badge.svg\" alt=\"Open In Colab\"/></a>"
      ]
    },
    {
      "cell_type": "markdown",
      "source": [
        "# **Universidad Nacional de San Agustín - 2024**\n",
        "## Estudiante: Juan Diego Valdivia Mendoza\n",
        "## Docente: Danny Giancarlo Apaza Veliz"
      ],
      "metadata": {
        "id": "qOc-Y7LF5Bvq"
      }
    },
    {
      "cell_type": "code",
      "source": [
        "import math\n",
        "import matplotlib.pyplot as plt"
      ],
      "metadata": {
        "id": "0q2Criey4JVS"
      },
      "execution_count": 2,
      "outputs": []
    },
    {
      "cell_type": "markdown",
      "source": [
        "\n",
        "# Objetivo\n",
        "\n",
        "El objetivo de esta práctica es aplicar conceptos de la dinámica de los cuerpos macroscópicos, en particular la relación fuerza-aceleración, y resolver problemas utilizando el Movimiento Rectilíneo Uniforme (MRU) y estática, además de determinar la fuerza ejercida por un móvil en movimiento."
      ],
      "metadata": {
        "id": "XVXobiWL3xKh"
      }
    },
    {
      "cell_type": "markdown",
      "source": [
        "## Ejercicio 1: MRU y Estática para determinar la órbita de un planeta"
      ],
      "metadata": {
        "id": "NMrKy8nb34v5"
      }
    },
    {
      "cell_type": "code",
      "source": [
        "# Constantes\n",
        "G = 6.67430e-11  # Constante gravitacional (m^3 kg^-1 s^-2)\n",
        "M_s = 1.989e30   # Masa del sol (kg)"
      ],
      "metadata": {
        "id": "vpuqdhku31Qz"
      },
      "execution_count": 3,
      "outputs": []
    },
    {
      "cell_type": "code",
      "source": [
        "# Función para calcular la velocidad orbital\n",
        "def velocidad_orbital(r):\n",
        "    return math.sqrt(G * M_s / r)\n",
        "\n",
        "# Radio de la órbita (en metros)\n",
        "radio_orbital = float(input(\"Introduce el radio orbital del planeta en metros: \"))\n",
        "\n",
        "# Calcular la velocidad orbital\n",
        "velocidad = velocidad_orbital(radio_orbital)"
      ],
      "metadata": {
        "colab": {
          "base_uri": "https://localhost:8080/"
        },
        "id": "J_HfV5fN4MoJ",
        "outputId": "67072ce4-9f68-4a5f-da17-de91cfe17611"
      },
      "execution_count": 4,
      "outputs": [
        {
          "name": "stdout",
          "output_type": "stream",
          "text": [
            "Introduce el radio orbital del planeta en metros: 20\n"
          ]
        }
      ]
    },
    {
      "cell_type": "code",
      "source": [
        "print(f\"La velocidad orbital del planeta es {velocidad:.2f} m/s.\")"
      ],
      "metadata": {
        "colab": {
          "base_uri": "https://localhost:8080/"
        },
        "id": "uj2GxAG04OoQ",
        "outputId": "6c4eeae4-c64d-47b7-def4-d4e12944dca5"
      },
      "execution_count": 5,
      "outputs": [
        {
          "output_type": "stream",
          "name": "stdout",
          "text": [
            "La velocidad orbital del planeta es 2576352334.21 m/s.\n"
          ]
        }
      ]
    },
    {
      "cell_type": "markdown",
      "source": [
        "## Ejercicio 2: Cálculo de la fuerza sobre un móvil"
      ],
      "metadata": {
        "id": "24jwPpzK4R5k"
      }
    },
    {
      "cell_type": "code",
      "source": [
        "# Parámetros del problema\n",
        "m = float(input(\"Introduce la masa del móvil en kg: \"))  # Masa (kg)\n",
        "d = float(input(\"Introduce la distancia recorrida en metros: \"))  # Distancia (m)\n",
        "t = float(input(\"Introduce el tiempo en segundos: \"))  # Tiempo (s)\n",
        "vi = float(input(\"Introduce la velocidad inicial en m/s: \"))  # Velocidad inicial (m/s)\n",
        "vf = float(input(\"Introduce la velocidad final en m/s: \"))  # Velocidad final (m/s)"
      ],
      "metadata": {
        "colab": {
          "base_uri": "https://localhost:8080/"
        },
        "id": "Bs3mMd9n4oJS",
        "outputId": "575f7bd8-2685-4ea7-b29b-edecf157c63c"
      },
      "execution_count": 1,
      "outputs": [
        {
          "name": "stdout",
          "output_type": "stream",
          "text": [
            "Introduce la masa del móvil en kg: 10\n",
            "Introduce la distancia recorrida en metros: 100\n",
            "Introduce el tiempo en segundos: 3\n",
            "Introduce la velocidad inicial en m/s: 10\n",
            "Introduce la velocidad final en m/s: 50\n"
          ]
        }
      ]
    },
    {
      "cell_type": "code",
      "source": [
        "# Calcular la aceleración\n",
        "a = (vf - vi) / t\n",
        "\n",
        "# Calcular la fuerza\n",
        "fuerza = m * a\n",
        "\n",
        "# Mostrar el resultado\n",
        "print(f\"La fuerza ejercida sobre el móvil es de {fuerza:.2f} N.\")"
      ],
      "metadata": {
        "colab": {
          "base_uri": "https://localhost:8080/"
        },
        "id": "cfDxvf9y4pdh",
        "outputId": "35478a6a-1e9d-4643-c38c-7efefd39a00c"
      },
      "execution_count": 6,
      "outputs": [
        {
          "output_type": "stream",
          "name": "stdout",
          "text": [
            "La fuerza ejercida sobre el móvil es de 133.33 N.\n"
          ]
        }
      ]
    },
    {
      "cell_type": "code",
      "source": [
        "# Graficar el cambio de velocidad\n",
        "tiempo = [0, t]\n",
        "velocidades = [vi, vf]\n",
        "\n",
        "plt.plot(tiempo, velocidades, marker='o')\n",
        "plt.title('Cambio de Velocidad del Móvil')\n",
        "plt.xlabel('Tiempo (s)')\n",
        "plt.ylabel('Velocidad (m/s)')\n",
        "plt.grid(True)\n",
        "plt.show()"
      ],
      "metadata": {
        "colab": {
          "base_uri": "https://localhost:8080/",
          "height": 472
        },
        "id": "-j6qyMVJ4rLI",
        "outputId": "6e49f915-bec4-432d-884a-e6ca0a712e2b"
      },
      "execution_count": 7,
      "outputs": [
        {
          "output_type": "display_data",
          "data": {
            "text/plain": [
              "<Figure size 640x480 with 1 Axes>"
            ],
            "image/png": "[encoded data removed]"
          },
          "metadata": {}
        }
      ]
    }
  ]
}