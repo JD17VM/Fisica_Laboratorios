{
  "nbformat": 4,
  "nbformat_minor": 0,
  "metadata": {
    "colab": {
      "provenance": []
    },
    "kernelspec": {
      "name": "python3",
      "display_name": "Python 3"
    },
    "language_info": {
      "name": "python"
    }
  },
  "cells": [
    {
      "cell_type": "markdown",
      "source": [
        "**Estudiante:** Juan Diego Valdivia Mendoza"
      ],
      "metadata": {
        "id": "ZG-0rMU_-e32"
      }
    },
    {
      "cell_type": "code",
      "source": [
        "import numpy as np\n",
        "import matplotlib.pyplot as plt"
      ],
      "metadata": {
        "id": "GU-v4bGh8roG"
      },
      "execution_count": 1,
      "outputs": []
    },
    {
      "cell_type": "markdown",
      "source": [
        "# **Implementación de un Autómata Celular**\n"
      ],
      "metadata": {
        "id": "HIJghmtF7qAk"
      }
    },
    {
      "cell_type": "markdown",
      "source": [
        "## **Desarrollo Teórico**\n",
        "\n",
        "Un autómata celular es un modelo computacional que consiste en una red de celdas. Cada celda puede estar en uno de un conjunto finito de estados, y su estado cambia a lo largo del tiempo según una regla local que depende del estado de las celdas vecinas.\n",
        "\n",
        "En este caso, implementaremos un autómata celular unidimensional, donde el estado de una celda en el tiempo siguiente se determina por el estado actual de la celda y sus dos vecinos inmediatos (izquierda y derecha). La regla de selección para este autómata está dada en el Cuadro 1, que define el estado futuro de la celda en función de los estados actuales."
      ],
      "metadata": {
        "id": "zpWLs-lz7wTL"
      }
    },
    {
      "cell_type": "markdown",
      "source": [
        "## **Regla de Selección**\n",
        "\n",
        "La regla se implementa según la tabla proporcionada:\n",
        "\n",
        "| Celda Izquierda | Celda Actual | Celda Derecha | Nueva Celda Actual |\n",
        "|------------------|--------------|---------------|--------------------|\n",
        "| 0                | 0            | 0             | 0                  |\n",
        "| 0                | 0            | 1             | 1                  |\n",
        "| 0                | 1            | 0             | 1                  |\n",
        "| 0                | 1            | 1             | 1                  |\n",
        "| 1                | 0            | 0             | 1                  |\n",
        "| 1                | 0            | 1             | 0                  |\n",
        "| 1                | 1            | 0             | 0                  |\n",
        "| 1                | 1            | 1             | 0                  |"
      ],
      "metadata": {
        "id": "urfXWn9j7mCp"
      }
    },
    {
      "cell_type": "markdown",
      "source": [
        "## **Implementación en Python**"
      ],
      "metadata": {
        "id": "UUaxe5tl7sbo"
      }
    },
    {
      "cell_type": "code",
      "source": [
        "# Regla de selección como un diccionario\n",
        "rule_dict = {\n",
        "    (0, 0, 0): 0,\n",
        "    (0, 0, 1): 1,\n",
        "    (0, 1, 0): 1,\n",
        "    (0, 1, 1): 1,\n",
        "    (1, 0, 0): 1,\n",
        "    (1, 0, 1): 0,\n",
        "    (1, 1, 0): 0,\n",
        "    (1, 1, 1): 0\n",
        "}"
      ],
      "metadata": {
        "id": "uEk7iE_rQEWU"
      },
      "execution_count": 2,
      "outputs": []
    },
    {
      "cell_type": "code",
      "source": [
        "\n",
        "# Función para calcular la siguiente generación\n",
        "def next_generation(current_gen):\n",
        "    new_gen = []\n",
        "    n = len(current_gen)\n",
        "\n",
        "    for i in range(n):\n",
        "        left = current_gen[i - 1] if i > 0 else current_gen[-1]  # Celda izquierda (considerar borde como cíclico)\n",
        "        center = current_gen[i]  # Celda actual\n",
        "        right = current_gen[i + 1] if i < n - 1 else current_gen[0]  # Celda derecha\n",
        "\n",
        "        # Aplicar regla de selección\n",
        "        new_gen.append(rule_dict[(left, center, right)])\n",
        "\n",
        "    return np.array(new_gen)\n",
        "\n",
        "# Función para ejecutar el autómata celular\n",
        "def cellular_automaton(initial_gen, steps):\n",
        "    generations = [initial_gen]\n",
        "\n",
        "    for _ in range(steps):\n",
        "        new_gen = next_generation(generations[-1])\n",
        "        generations.append(new_gen)\n",
        "\n",
        "    return np.array(generations)"
      ],
      "metadata": {
        "id": "8aDGQUdNQd5S"
      },
      "execution_count": 3,
      "outputs": []
    },
    {
      "cell_type": "code",
      "source": [
        "size = 31  # Número de celdas\n",
        "steps = 15  # Número de generaciones\n",
        "\n",
        "initial_gen = np.random.choice([0, 1], size=size)\n",
        "\n",
        "result = cellular_automaton(initial_gen, steps)\n",
        "\n",
        "plt.figure(figsize=(10, 6))\n",
        "plt.imshow(result, cmap=\"binary\", interpolation=\"nearest\")\n",
        "plt.title(\"Evolución del Autómata Celular\")\n",
        "plt.xlabel(\"Celdas\")\n",
        "plt.ylabel(\"Generaciones\")\n",
        "plt.show()"
      ],
      "metadata": {
        "colab": {
          "base_uri": "https://localhost:8080/",
          "height": 502
        },
        "id": "Sh8TW-MuQff6",
        "outputId": "f29d1352-95cc-47a2-81ef-5085124d1153"
      },
      "execution_count": 5,
      "outputs": [
        {
          "output_type": "display_data",
          "data": {
            "text/plain": [
              "<Figure size 1000x600 with 1 Axes>"
            ],
            "image/png": "[encoded data removed]"
          },
          "metadata": {}
        }
      ]
    },
    {
      "cell_type": "markdown",
      "source": [
        "### **Explicación del Código**\n",
        "\n",
        "1. **Definición de la regla de selección**:\n",
        "   - Usamos un diccionario donde las claves son las combinaciones de estados (izquierda, actual, derecha) y los valores son los estados futuros de la celda.\n",
        "\n",
        "2. **Cálculo de la siguiente generación**:\n",
        "   - Para cada celda, determinamos el estado de sus vecinos izquierdo y derecho. Si estamos en los bordes, consideramos las celdas como cíclicas (la última conecta con la primera).\n",
        "   - Aplicamos la regla de selección para determinar el nuevo estado de la celda.\n",
        "\n",
        "3. **Ejecución del autómata**:\n",
        "   - Iniciamos con una generación inicial aleatoria.\n",
        "   - Iteramos por el número de pasos especificado, calculando nuevas generaciones y almacenándolas.\n",
        "\n",
        "4. **Visualización**:\n",
        "   - Usamos `matplotlib` para representar la evolución del autómata celular como una matriz binaria, donde cada celda es un píxel blanco (estado 1) o negro (estado 0)."
      ],
      "metadata": {
        "id": "p8E2RlbzKpzC"
      }
    },
    {
      "cell_type": "markdown",
      "source": [
        "## **Resultados**\n",
        "\n",
        "El resultado del autómata celular se muestra en un gráfico, donde cada fila representa una generación, y las columnas representan las celdas. El patrón emergente ilustra la dinámica del sistema según la regla de selección."
      ],
      "metadata": {
        "id": "yWiViFUqKxVq"
      }
    },
    {
      "cell_type": "markdown",
      "source": [
        "## **Conclusiones**\n",
        "\n",
        "- Los autómatas celulares son herramientas poderosas para modelar sistemas dinámicos complejos.\n",
        "- La implementación en Python nos permite explorar patrones y dinámicas generadas por reglas simples.\n",
        "- La regla de selección aplicada muestra cómo pequeñas variaciones en los estados iniciales pueden producir patrones diversos y complejos.\n",
        "\n",
        "Este informe proporciona una base para explorar aplicaciones más avanzadas de autómatas celulares en diversas disciplinas, como física, biología y ciencias de la computación."
      ],
      "metadata": {
        "id": "2cY696nKQVTU"
      }
    }
  ]
}